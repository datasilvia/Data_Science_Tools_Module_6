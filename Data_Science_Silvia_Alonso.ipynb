{
 "cells": [
  {
   "cell_type": "markdown",
   "metadata": {},
   "source": [
    "<center>\n",
    "    <img src=\"https://cf-courses-data.s3.us.cloud-object-storage.appdomain.cloud/IBMDeveloperSkillsNetwork-DS0105EN-SkillsNetwork/labs/Module2/images/SN_web_lightmode.png\" width=\"300\" alt=\"cognitiveclass.ai logo\">\n",
    "</center>\n"
   ]
  },
  {
   "cell_type": "markdown",
   "metadata": {},
   "source": [
    "# Data Science Notebook"
   ]
  },
  {
   "cell_type": "markdown",
   "metadata": {
    "jp-MarkdownHeadingCollapsed": true
   },
   "source": [
    "This is my notebook for the exercise in Module 6."
   ]
  },
  {
   "cell_type": "markdown",
   "metadata": {},
   "source": [
    "## Data Science Languages are:\n",
    "<ul>\n",
    "    <li>Python</li> <li>R</li> <li>SQL</li> <li>Java</li> <li>C</li> <li>C++</li> <li>Scala</li>\n",
    "</ul>"
   ]
  },
  {
   "cell_type": "markdown",
   "metadata": {},
   "source": [
    "## Libraries in Data Science are:\n",
    "\n",
    "### For Scientific computing in Python:\n",
    "<ul>\n",
    "    <li>Pandas (for data structures and tools)</li>\n",
    "    <li>NumPy (for arrays and matrices)</li>\n",
    "</ul>\n",
    "\n",
    "### For visualizations in Python:\n",
    "<ul>\n",
    "    <li>Matplotlib (the most popular for plots and graphs)</li>\n",
    "    <li>Seaborn (heatmaps, time series, violin plots)</li>\n",
    "</ul>\n",
    "\n",
    "### For Machine Learning in Python:\n",
    "<ul>\n",
    "    <li>Scikit-learn (used to define the model. Regression, clasification, clustering)</li>\n",
    "</ul>\n",
    "\n",
    "### For Deep Learning:\n",
    "<ul>\n",
    "    <li>Keras (neuronal networks)</li>\n",
    "    <li>TensorFlow (for production and deployment)</li>\n",
    "    <li>Pytorch (Regression, clasification)</li>\n",
    "</ul>\n",
    "\n",
    "### Apache Spark:\n",
    "\n",
    "It's a general-purpose cluster-computing framework.\n",
    "\n",
    "### Scala libraries:\n",
    "<ul>\n",
    "    <li>Vegas (for statistical data visualizations)</li>\n",
    "    <li>Big DL (for Deep Learning)</li>\n",
    "</ul>\n",
    "\n",
    "### R libraries:\n",
    "<ul>\n",
    "    <li>ggplot2 (for data visualizations)</li>\n",
    "    <li>Other libraries that allow you to interact with Keras and TensorFlow.</li>\n",
    "</ul>"
   ]
  },
  {
   "cell_type": "markdown",
   "metadata": {},
   "source": [
    "## Data Science tools are:\n",
    "\n",
    "\n",
    "| **Category**            | **Tool**                | **Description**                                                                                   |\n",
    "|--------------------------|-------------------------|---------------------------------------------------------------------------------------------------|\n",
    "| **Programming Languages** | Python                 | Versatile programming language popular in data science.                                           |\n",
    "|                          | R                      | Ideal for statistical analysis and data visualization.                                           |\n",
    "|                          | SQL                    | Language for managing databases and performing large-scale queries.                              |\n",
    "| **Development Environments** | Jupyter Notebook      | Interactive tool for code, visualization, and documentation in one place.                        |\n",
    "|                          | RStudio                | Advanced IDE for working with R.                                                                 |\n",
    "|                          | Visual Studio Code     | Customizable code editor supporting multiple languages.                                          |\n",
    "| **Data Analysis Libraries** | Pandas                | Library for handling and analyzing structured data in Python.                                    |\n",
    "|                          | NumPy                  | Library for numerical computing and array operations.                                            |\n",
    "|                          | dplyr                  | R package for structured data manipulation.                                                      |\n",
    "| **Data Visualization Libraries**   | Matplotlib             | Visualization library in Python.                                                                 |\n",
    "|                          | Seaborn                | Extension of Matplotlib for statistical graphics.                                                |\n",
    "|                          | ggplot2                | Advanced visualization tool in R.                                                               |\n",
    "| **Machine Learning**     | Scikit-learn           | Machine learning library in Python.                                                              |\n",
    "|                          | TensorFlow             | Framework for neural networks developed by Google.                                               |\n",
    "|                          | PyTorch                | Framework for neural networks developed by Facebook.                                             |\n",
    "| **APIs**                 | RESTful APIs           | Standard for building and consuming web services in data science.                                |\n",
    "|                          | FastAPI                | Python framework for building fast and scalable APIs.                                            |\n",
    "|                          | Postman                | Platform for API testing and development.                                                        |\n",
    "| **Version Control**      | Git                    | Distributed version control system for tracking changes in code.                                 |\n",
    "|                          | GitHub                 | Platform for hosting, collaborating, and sharing code repositories.                              |\n",
    "|                          | GitLab                 | Similar to GitHub, with additional CI/CD capabilities.                                           |\n",
    "| **Databases**            | PostgreSQL             | Robust and open-source relational database.                                                      |\n",
    "|                          | MySQL                  | Popular and widely used relational database.                                                     |\n",
    "|                          | MongoDB                | NoSQL database oriented towards documents.                                                       |\n",
    "\n",
    "\n"
   ]
  },
  {
   "cell_type": "markdown",
   "metadata": {},
   "source": [
    "## Examples of Arithmetic Expressions\n",
    "\n",
    "- **Addition:** `3 + 5` results in `8`\n",
    "- **Subtraction:** `10 - 4` results in `6`\n",
    "- **Multiplication:** `6 * 7` results in `42`\n",
    "- **Division:** `15 / 3` results in `5.0`\n",
    "- **Floor Division:** `15 // 4` results in `3`\n",
    "- **Exponentiation:** `2 ** 3` results in `8`\n",
    "- **Modulus:** `10 % 3` results in `1`\n",
    "- **Grouping with Parentheses:** `(5 + 3) * 2` results in `16`\n",
    "- **Absolute Value:** `abs(-7)` results in `7`\n",
    "- **Rounding:** `round(3.14159, 2)` results in `3.14`\n"
   ]
  },
  {
   "cell_type": "code",
   "execution_count": 1,
   "metadata": {},
   "outputs": [
    {
     "name": "stdout",
     "output_type": "stream",
     "text": [
      "6\n"
     ]
    },
    {
     "data": {
      "text/plain": [
       "11"
      ]
     },
     "execution_count": 1,
     "metadata": {},
     "output_type": "execute_result"
    }
   ],
   "source": [
    "# Multiplying numbers:\n",
    "print(2*3)\n",
    "\n",
    "# Adding numbers:\n",
    "3+8"
   ]
  },
  {
   "cell_type": "code",
   "execution_count": 2,
   "metadata": {},
   "outputs": [
    {
     "data": {
      "text/plain": [
       "60"
      ]
     },
     "execution_count": 2,
     "metadata": {},
     "output_type": "execute_result"
    }
   ],
   "source": [
    "# Converting minutes in hours:\n",
    "\n",
    "def min_to_hour(minutes):\n",
    "     hour = minutes//60\n",
    "     return hour\n",
    "\n",
    "minutes = 3600\n",
    "\n",
    "min_to_hour(minutes)\n"
   ]
  },
  {
   "cell_type": "code",
   "execution_count": 3,
   "metadata": {},
   "outputs": [
    {
     "name": "stdout",
     "output_type": "stream",
     "text": [
      "learning python\n",
      "finding a better job\n",
      "buying a house\n"
     ]
    }
   ],
   "source": [
    "#Listing objetives\n",
    "\n",
    "objetives = [\"learning python\", \"finding a better job\", \"buying a house\"]\n",
    "for objetive in objetives:\n",
    "    print(objetive)\n",
    "\n"
   ]
  },
  {
   "cell_type": "markdown",
   "metadata": {
    "editable": true,
    "slideshow": {
     "slide_type": ""
    },
    "tags": []
   },
   "source": [
    "#### Author: Silvia Alonso"
   ]
  }
 ],
 "metadata": {
  "kernelspec": {
   "display_name": "Python 3 (ipykernel)",
   "language": "python",
   "name": "python3"
  },
  "language_info": {
   "codemirror_mode": {
    "name": "ipython",
    "version": 3
   },
   "file_extension": ".py",
   "mimetype": "text/x-python",
   "name": "python",
   "nbconvert_exporter": "python",
   "pygments_lexer": "ipython3",
   "version": "3.11.9"
  }
 },
 "nbformat": 4,
 "nbformat_minor": 4
}
